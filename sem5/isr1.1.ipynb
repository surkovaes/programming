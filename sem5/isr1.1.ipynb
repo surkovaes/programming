{
  "nbformat": 4,
  "nbformat_minor": 0,
  "metadata": {
    "colab": {
      "name": "isr_1.1.ipynb",
      "provenance": [],
      "collapsed_sections": []
    },
    "kernelspec": {
      "name": "python3",
      "display_name": "Python 3"
    },
    "language_info": {
      "name": "python"
    }
  },
  "cells": [
    {
      "cell_type": "markdown",
      "metadata": {
        "id": "DgspMVzRAiZ2"
      },
      "source": [
        "# Инвариантная самостоятельная работа 1.1\n",
        "# **Модуль os**\n",
        "Суркова Елизавета, 3ИВТ(2)/19\n",
        "\n",
        "---\n",
        "\n"
      ]
    },
    {
      "cell_type": "markdown",
      "metadata": {
        "id": "k-gO_MR-BZYf"
      },
      "source": [
        "Модуль `os` в Python — это библиотека функций для работы с операционной системой. Методы, включенные в неё позволяют определять тип операционной системы, получать доступ к переменным окружения, управлять директориями и файлами."
      ]
    },
    {
      "cell_type": "markdown",
      "metadata": {
        "id": "d2xWEsDgCTut"
      },
      "source": [
        "Чтобы пользоваться методами из `os`, нужно подключить библиотеку. Для этого в Python используется `import os`, который необходимо описать в файле до первого обращения к модулю."
      ]
    },
    {
      "cell_type": "code",
      "metadata": {
        "id": "vk60ccw4CYve"
      },
      "source": [
        "import os"
      ],
      "execution_count": null,
      "outputs": []
    },
    {
      "cell_type": "markdown",
      "metadata": {
        "id": "NJI2LHaTCdRr"
      },
      "source": [
        "\n",
        "\n",
        "---\n",
        "\n",
        "\n",
        "## Определение названия операционной системы\n",
        "Чтобы узнать имя текущей ОС, необходимо воспользоваться методом `name`. В зависимости от установленной платформы, он вернет ее короткое наименование в строковом представлении. Увидеть это можно при помощи обычного метода `print`.\n",
        "\n"
      ]
    },
    {
      "cell_type": "code",
      "metadata": {
        "colab": {
          "base_uri": "https://localhost:8080/"
        },
        "id": "2cD-E-rqEu4o",
        "outputId": "240dcf07-52bc-4616-85c6-574e806f4db9"
      },
      "source": [
        "import os\n",
        "\n",
        "print(os.name)"
      ],
      "execution_count": null,
      "outputs": [
        {
          "output_type": "stream",
          "name": "stdout",
          "text": [
            "posix\n"
          ]
        }
      ]
    },
    {
      "cell_type": "markdown",
      "metadata": {
        "id": "a3WRobGcGHsB"
      },
      "source": [
        "\n",
        "\n",
        "---\n",
        "\n",
        "\n",
        "## Получение информации об ОС\n",
        "Получить сведения, которые касаются конфигурации компьютера, можно при помощи метода `environ`. Вызвав его через обращение к библиотеке `os`, пользователь получает большой словарь с переменными окружения. Таким образом, можно узнать название системного диска, адрес домашней директории, имя системы, количество процессоров, тип ОЗУ и другую информацию."
      ]
    },
    {
      "cell_type": "code",
      "metadata": {
        "colab": {
          "base_uri": "https://localhost:8080/"
        },
        "id": "Cc5ZMpT3GpRO",
        "outputId": "a8097791-c452-40a6-b007-7c38ef5a6a9d"
      },
      "source": [
        "import os\n",
        "\n",
        "print(os.environ)"
      ],
      "execution_count": null,
      "outputs": [
        {
          "output_type": "stream",
          "name": "stdout",
          "text": [
            "environ({'NO_GCE_CHECK': 'True', 'GCS_READ_CACHE_BLOCK_SIZE_MB': '16', 'CLOUDSDK_CONFIG': '/content/.config', 'CUDA_VERSION': '11.1.1', 'PATH': '/usr/local/nvidia/bin:/usr/local/cuda/bin:/usr/local/sbin:/usr/local/bin:/usr/sbin:/usr/bin:/sbin:/bin:/tools/node/bin:/tools/google-cloud-sdk/bin:/opt/bin', 'HOME': '/root', 'LD_LIBRARY_PATH': '/usr/local/nvidia/lib:/usr/local/nvidia/lib64', 'LANG': 'en_US.UTF-8', 'SHELL': '/bin/bash', 'LIBRARY_PATH': '/usr/local/cuda/lib64/stubs', 'SHLVL': '0', 'GCE_METADATA_TIMEOUT': '0', 'NCCL_VERSION': '2.7.8', 'NVIDIA_VISIBLE_DEVICES': 'all', 'DEBIAN_FRONTEND': 'noninteractive', 'CUDNN_VERSION': '8.0.5.39', 'LAST_FORCED_REBUILD': '20210824', 'JPY_PARENT_PID': '52', 'PYTHONPATH': '/env/python', 'DATALAB_SETTINGS_OVERRIDES': '{\"kernelManagerProxyPort\":6000,\"kernelManagerProxyHost\":\"172.28.0.3\",\"jupyterArgs\":[\"--ip=\\\\\"172.28.0.2\\\\\"\"],\"debugAdapterMultiplexerPath\":\"/usr/local/bin/dap_multiplexer\",\"enableLsp\":true}', 'ENV': '/root/.bashrc', 'GLIBCXX_FORCE_NEW': '1', 'NVIDIA_DRIVER_CAPABILITIES': 'compute,utility', 'TF_FORCE_GPU_ALLOW_GROWTH': 'true', 'LD_PRELOAD': '/usr/lib/x86_64-linux-gnu/libtcmalloc.so.4', 'PYTHONWARNINGS': 'ignore:::pip._internal.cli.base_command', 'NVIDIA_REQUIRE_CUDA': 'cuda>=11.1 brand=tesla,driver>=418,driver<419 brand=tesla,driver>=440,driver<441 brand=tesla,driver>=450,driver<451', 'OLDPWD': '/', 'HOSTNAME': 'a9ccd486a5d4', 'COLAB_GPU': '0', 'PWD': '/', 'CLOUDSDK_PYTHON': 'python3', 'GLIBCPP_FORCE_NEW': '1', 'TBE_EPHEM_CREDS_ADDR': '172.28.0.1:8009', 'TBE_CREDS_ADDR': '172.28.0.1:8008', 'TERM': 'xterm-color', 'CLICOLOR': '1', 'PAGER': 'cat', 'GIT_PAGER': 'cat', 'MPLBACKEND': 'module://ipykernel.pylab.backend_inline', 'PYDEVD_USE_FRAME_EVAL': 'NO'})\n"
          ]
        }
      ]
    },
    {
      "cell_type": "markdown",
      "metadata": {
        "id": "Rgh6MkAeHUpg"
      },
      "source": [
        "Так как в результате был возвращен словарь, это означает, что получить доступ к значениям среды, пользуясь обычными словарными методами. Например:"
      ]
    },
    {
      "cell_type": "code",
      "metadata": {
        "colab": {
          "base_uri": "https://localhost:8080/"
        },
        "id": "0E8-XFSwHhGz",
        "outputId": "d240da59-39fc-46bc-c49a-f268228ede6b"
      },
      "source": [
        "import os\n",
        "\n",
        "print(os.environ[\"HOME\"])"
      ],
      "execution_count": null,
      "outputs": [
        {
          "output_type": "stream",
          "name": "stdout",
          "text": [
            "/root\n"
          ]
        }
      ]
    },
    {
      "cell_type": "markdown",
      "metadata": {
        "id": "6JY5bUeVHu5U"
      },
      "source": [
        "Также для получения доступа к различным переменным среды можно использовать функцию `getenv`"
      ]
    },
    {
      "cell_type": "code",
      "metadata": {
        "colab": {
          "base_uri": "https://localhost:8080/"
        },
        "id": "nwKuspTjJpCQ",
        "outputId": "940d5858-8e11-4519-9985-21f71b164f9f"
      },
      "source": [
        "import os\n",
        "\n",
        "print(os.getenv(\"HOME\"))"
      ],
      "execution_count": null,
      "outputs": [
        {
          "output_type": "stream",
          "name": "stdout",
          "text": [
            "/root\n"
          ]
        }
      ]
    },
    {
      "cell_type": "markdown",
      "metadata": {
        "id": "JMypL96wJ8nd"
      },
      "source": [
        "Полезность использования `os.getenv()` вместо словаря `os.environ` заключается в том, что при попытке получить доступ к переменной среды, которая не существует, функция `getenv` ничего не сделает. Если же попытаться сделать то же самое, используя `environ`, выведется уведомление об ошибке."
      ]
    },
    {
      "cell_type": "code",
      "metadata": {
        "colab": {
          "base_uri": "https://localhost:8080/",
          "height": 322
        },
        "id": "FQpVkcWdKg_t",
        "outputId": "48fbe5a7-7926-4343-e1fa-3ae4e3882d58"
      },
      "source": [
        "import os\n",
        " \n",
        "print(os.environ[\"TMP2\"])"
      ],
      "execution_count": null,
      "outputs": [
        {
          "output_type": "error",
          "ename": "KeyError",
          "evalue": "ignored",
          "traceback": [
            "\u001b[0;31m---------------------------------------------------------------------------\u001b[0m",
            "\u001b[0;31mKeyError\u001b[0m                                  Traceback (most recent call last)",
            "\u001b[0;32m<ipython-input-6-af593649d2c0>\u001b[0m in \u001b[0;36m<module>\u001b[0;34m()\u001b[0m\n\u001b[1;32m      1\u001b[0m \u001b[0;32mimport\u001b[0m \u001b[0mos\u001b[0m\u001b[0;34m\u001b[0m\u001b[0;34m\u001b[0m\u001b[0m\n\u001b[1;32m      2\u001b[0m \u001b[0;34m\u001b[0m\u001b[0m\n\u001b[0;32m----> 3\u001b[0;31m \u001b[0mprint\u001b[0m\u001b[0;34m(\u001b[0m\u001b[0mos\u001b[0m\u001b[0;34m.\u001b[0m\u001b[0menviron\u001b[0m\u001b[0;34m[\u001b[0m\u001b[0;34m\"TMP2\"\u001b[0m\u001b[0;34m]\u001b[0m\u001b[0;34m)\u001b[0m\u001b[0;34m\u001b[0m\u001b[0;34m\u001b[0m\u001b[0m\n\u001b[0m",
            "\u001b[0;32m/usr/lib/python3.7/os.py\u001b[0m in \u001b[0;36m__getitem__\u001b[0;34m(self, key)\u001b[0m\n\u001b[1;32m    679\u001b[0m         \u001b[0;32mexcept\u001b[0m \u001b[0mKeyError\u001b[0m\u001b[0;34m:\u001b[0m\u001b[0;34m\u001b[0m\u001b[0;34m\u001b[0m\u001b[0m\n\u001b[1;32m    680\u001b[0m             \u001b[0;31m# raise KeyError with the original key value\u001b[0m\u001b[0;34m\u001b[0m\u001b[0;34m\u001b[0m\u001b[0;34m\u001b[0m\u001b[0m\n\u001b[0;32m--> 681\u001b[0;31m             \u001b[0;32mraise\u001b[0m \u001b[0mKeyError\u001b[0m\u001b[0;34m(\u001b[0m\u001b[0mkey\u001b[0m\u001b[0;34m)\u001b[0m \u001b[0;32mfrom\u001b[0m \u001b[0;32mNone\u001b[0m\u001b[0;34m\u001b[0m\u001b[0;34m\u001b[0m\u001b[0m\n\u001b[0m\u001b[1;32m    682\u001b[0m         \u001b[0;32mreturn\u001b[0m \u001b[0mself\u001b[0m\u001b[0;34m.\u001b[0m\u001b[0mdecodevalue\u001b[0m\u001b[0;34m(\u001b[0m\u001b[0mvalue\u001b[0m\u001b[0;34m)\u001b[0m\u001b[0;34m\u001b[0m\u001b[0;34m\u001b[0m\u001b[0m\n\u001b[1;32m    683\u001b[0m \u001b[0;34m\u001b[0m\u001b[0m\n",
            "\u001b[0;31mKeyError\u001b[0m: 'TMP2'"
          ]
        }
      ]
    },
    {
      "cell_type": "code",
      "metadata": {
        "colab": {
          "base_uri": "https://localhost:8080/"
        },
        "id": "UWLf8D3EKnoC",
        "outputId": "9b1bfe20-8bd3-4d18-8de6-5b37a538cc24"
      },
      "source": [
        "import os\n",
        " \n",
        "print(os.getenv(\"TMP2\"))"
      ],
      "execution_count": null,
      "outputs": [
        {
          "output_type": "stream",
          "name": "stdout",
          "text": [
            "None\n"
          ]
        }
      ]
    },
    {
      "cell_type": "markdown",
      "metadata": {
        "id": "aGEy3s2XK5Id"
      },
      "source": [
        "\n",
        "\n",
        "---\n",
        "\n",
        "\n",
        "## Изменение рабочей директории\n",
        "По умолчанию рабочей директорией программы является каталог, где содержится документ с ее исходным кодом. Получить сведения о текущей директории позволяет функция `getcwd`, которая возвращает полный адрес рабочего каталога на жестком диске. "
      ]
    },
    {
      "cell_type": "code",
      "metadata": {
        "colab": {
          "base_uri": "https://localhost:8080/"
        },
        "id": "NN4mmlMKPL9n",
        "outputId": "11a73f56-4673-4f65-90b6-56fafc052df1"
      },
      "source": [
        "import os\n",
        "\n",
        "print(os.getcwd())"
      ],
      "execution_count": null,
      "outputs": [
        {
          "output_type": "stream",
          "name": "stdout",
          "text": [
            "/content\n"
          ]
        }
      ]
    },
    {
      "cell_type": "markdown",
      "metadata": {
        "id": "iCDGmchaQEdo"
      },
      "source": [
        "Рабочую директорию можно изменить, применив функцию `chdir`. Для этого необходимо передать в качестве параметра абсолютный адрес к новому каталогу. Если указанного пути на самом деле не существует, программа будет завершена из-за выброшенного исключения. "
      ]
    },
    {
      "cell_type": "code",
      "metadata": {
        "colab": {
          "base_uri": "https://localhost:8080/"
        },
        "id": "GceQfRVvPdwj",
        "outputId": "db2f67f6-f1e8-42ea-b96c-872afe1e6705"
      },
      "source": [
        "import os\n",
        "\n",
        "os.chdir(r\"../usr\")\n",
        "print(os.getcwd())"
      ],
      "execution_count": null,
      "outputs": [
        {
          "output_type": "stream",
          "name": "stdout",
          "text": [
            "/usr\n"
          ]
        }
      ]
    },
    {
      "cell_type": "markdown",
      "metadata": {
        "id": "ckYaBTJkSb3y"
      },
      "source": [
        "\n",
        "\n",
        "---\n",
        "\n",
        "\n",
        "## Создание директорий\n",
        "С помощью метода `mkdir` можно создать одну папку, указав для нее желаемый путь, или создать её в текущем каталоге, тогда в скобках указав название новой директории."
      ]
    },
    {
      "cell_type": "code",
      "metadata": {
        "id": "Ne6cOd8WS2Hy"
      },
      "source": [
        "import os\n",
        "\n",
        "os.mkdir(\"test\")\n",
        "os.mkdir(r\"test/isr\")"
      ],
      "execution_count": null,
      "outputs": []
    },
    {
      "cell_type": "markdown",
      "metadata": {
        "id": "YMnHEARrUKwQ"
      },
      "source": [
        "Благодаря функции `makedirs` можно создавать сразу несколько новых папок в неограниченном количестве, если предыдущая директория является родительской для следующей."
      ]
    },
    {
      "cell_type": "code",
      "metadata": {
        "id": "y0JgJ7e_UaNO"
      },
      "source": [
        "import os\n",
        "\n",
        "os.makedirs(r\"test/isr/first/second/third\")"
      ],
      "execution_count": null,
      "outputs": []
    },
    {
      "cell_type": "markdown",
      "metadata": {
        "id": "SbDO-Tjyg5rW"
      },
      "source": [
        "\n",
        "\n",
        "---\n",
        "\n",
        "## Удаление файлов и директорий\n",
        "Функции `remove` и `rmdir` используются для удаления файлов и каталогов соответственно."
      ]
    },
    {
      "cell_type": "code",
      "metadata": {
        "colab": {
          "base_uri": "https://localhost:8080/",
          "height": 200
        },
        "id": "IDEmqc97ha9m",
        "outputId": "3682b9f8-24bf-4962-85e3-7936dbc41bfc"
      },
      "source": [
        "import os\n",
        "\n",
        "os.remove(\"test.txt\")"
      ],
      "execution_count": null,
      "outputs": [
        {
          "output_type": "error",
          "ename": "FileNotFoundError",
          "evalue": "ignored",
          "traceback": [
            "\u001b[0;31m---------------------------------------------------------------------------\u001b[0m",
            "\u001b[0;31mFileNotFoundError\u001b[0m                         Traceback (most recent call last)",
            "\u001b[0;32m<ipython-input-22-b6f15d1cefee>\u001b[0m in \u001b[0;36m<module>\u001b[0;34m()\u001b[0m\n\u001b[1;32m      1\u001b[0m \u001b[0;32mimport\u001b[0m \u001b[0mos\u001b[0m\u001b[0;34m\u001b[0m\u001b[0;34m\u001b[0m\u001b[0m\n\u001b[1;32m      2\u001b[0m \u001b[0;34m\u001b[0m\u001b[0m\n\u001b[0;32m----> 3\u001b[0;31m \u001b[0mos\u001b[0m\u001b[0;34m.\u001b[0m\u001b[0mremove\u001b[0m\u001b[0;34m(\u001b[0m\u001b[0;34m\"test.txt\"\u001b[0m\u001b[0;34m)\u001b[0m\u001b[0;34m\u001b[0m\u001b[0;34m\u001b[0m\u001b[0m\n\u001b[0m",
            "\u001b[0;31mFileNotFoundError\u001b[0m: [Errno 2] No such file or directory: 'test.txt'"
          ]
        }
      ]
    },
    {
      "cell_type": "markdown",
      "metadata": {
        "id": "FFNukP-wht7C"
      },
      "source": [
        "Если модуль не может найти файл, должно появиться уведомление о той или иной ошибке. Ошибка также возникнет, если файл уже используется, или у вас нет разрешения для удаления данного файла."
      ]
    },
    {
      "cell_type": "code",
      "metadata": {
        "colab": {
          "base_uri": "https://localhost:8080/"
        },
        "id": "SE1EyMcsh3bq",
        "outputId": "4812eab7-f5e9-447c-90a7-a2eb38c02909"
      },
      "source": [
        "import os\n",
        "\n",
        "os.rmdir(\"test/isr/first/second\")\n",
        "print(os.path.exists(\"test/isr/first/second\"))"
      ],
      "execution_count": null,
      "outputs": [
        {
          "output_type": "stream",
          "name": "stdout",
          "text": [
            "False\n"
          ]
        }
      ]
    },
    {
      "cell_type": "markdown",
      "metadata": {
        "id": "iXl7SI1zicQ2"
      },
      "source": [
        "Для быстрого удаления множества пустых папок следует вызывать функцию `removedirs`."
      ]
    },
    {
      "cell_type": "markdown",
      "metadata": {
        "id": "tVlkFhRri9kX"
      },
      "source": [
        "\n",
        "\n",
        "---\n",
        "\n",
        "## Переименование\n",
        "Функция `rename` применяется тогда, когда нужно переименовать файл или папку. Данная функция принимает сразу два разных аргумента. Первый отвечает за путь к старому наименованию документа, в то время как второй отвечает за его новое название."
      ]
    },
    {
      "cell_type": "code",
      "metadata": {
        "id": "CUplOdxijM7z"
      },
      "source": [
        "import os\n",
        "\n",
        "os.rename(\"test/isr/first\", \"test/isr/one\")"
      ],
      "execution_count": null,
      "outputs": []
    },
    {
      "cell_type": "markdown",
      "metadata": {
        "id": "aAs5ztuLjz1O"
      },
      "source": [
        "Переименовывать можно несколько папок сразу, но только если все они находятся в одной иерархической цепочке. Для этого достаточно вызвать функцию `renames` и передать ей путь к конечной директории в качестве первого аргумента, а в качестве второго параметра — аналогичный адрес к папке, но только с новыми именами всей цепочки."
      ]
    },
    {
      "cell_type": "markdown",
      "metadata": {
        "id": "OjnOAdwjkOam"
      },
      "source": [
        "\n",
        "\n",
        "---\n",
        "\n",
        "## Содержимое директорий\n",
        "С помощью функции `listdir` можно получить информацию о файлах и папках в виде списка. "
      ]
    },
    {
      "cell_type": "code",
      "metadata": {
        "colab": {
          "base_uri": "https://localhost:8080/"
        },
        "id": "bItgwNPHkgyg",
        "outputId": "3b661c4d-cb77-4b90-b3ff-69709fdd347a"
      },
      "source": [
        "import os\n",
        "\n",
        "print(os.listdir(\"../content\"))"
      ],
      "execution_count": null,
      "outputs": [
        {
          "output_type": "stream",
          "name": "stdout",
          "text": [
            "['.config', 'test', 'sample_data']\n"
          ]
        }
      ]
    },
    {
      "cell_type": "markdown",
      "metadata": {
        "id": "CikL15BTlG50"
      },
      "source": [
        "Воспользовавшись методом `walk` с помощью цикла `for`, можно получить доступ к названиям и путям всех подпапок и файлов, относящихся к заданному каталогу."
      ]
    },
    {
      "cell_type": "code",
      "metadata": {
        "colab": {
          "base_uri": "https://localhost:8080/"
        },
        "id": "fD1lMfQ-lPxc",
        "outputId": "f35fe7d6-41e2-4599-d4ca-bdca862e33b4"
      },
      "source": [
        "import os\n",
        " \n",
        "for root, dirs, files in os.walk(\"../content\"):\n",
        "    print(root)"
      ],
      "execution_count": null,
      "outputs": [
        {
          "output_type": "stream",
          "name": "stdout",
          "text": [
            "../content\n",
            "../content/.config\n",
            "../content/.config/configurations\n",
            "../content/.config/logs\n",
            "../content/.config/logs/2021.09.16\n",
            "../content/test\n",
            "../content/test/isr\n",
            "../content/test/isr/one\n",
            "../content/sample_data\n"
          ]
        }
      ]
    },
    {
      "cell_type": "markdown",
      "metadata": {
        "id": "7L9e4y1xVCfp"
      },
      "source": [
        "\n",
        "\n",
        "---\n",
        "\n",
        "## Проверка существования пути\n",
        "Проверить наличие файлов и директорий можно с помощью метода `exists`. Передав ему в качестве аргумента путь к нужному файлу или папке, можно рассчитывать на ответ в виде булевого значения `true/false`, сообщающего о наличии/отсутствии указанного объекта в памяти компьютера."
      ]
    },
    {
      "cell_type": "code",
      "metadata": {
        "colab": {
          "base_uri": "https://localhost:8080/"
        },
        "id": "eZ6Nj5unVgwu",
        "outputId": "58d8157a-4257-4e01-8dc6-a0623bb6d0d5"
      },
      "source": [
        "import os\n",
        "\n",
        "print(os.path.exists(\"test/isr/one\"))"
      ],
      "execution_count": null,
      "outputs": [
        {
          "output_type": "stream",
          "name": "stdout",
          "text": [
            "True\n"
          ]
        }
      ]
    },
    {
      "cell_type": "markdown",
      "metadata": {
        "id": "8K7wmGTZgXQT"
      },
      "source": [
        "Проверить, является ли определенный объект файлом, поможет функция `isfile`, которая принимает его адрес."
      ]
    },
    {
      "cell_type": "code",
      "metadata": {
        "colab": {
          "base_uri": "https://localhost:8080/"
        },
        "id": "oVDcUX74geMr",
        "outputId": "e7f1c298-cac9-42b5-f07f-4b94b84e2308"
      },
      "source": [
        "import os\n",
        "\n",
        "print(os.path.isfile(\"test/isr/one\"))"
      ],
      "execution_count": null,
      "outputs": [
        {
          "output_type": "stream",
          "name": "stdout",
          "text": [
            "False\n"
          ]
        }
      ]
    },
    {
      "cell_type": "markdown",
      "metadata": {
        "id": "ThNO_z4QgmpB"
      },
      "source": [
        "Аналогичные действия можно выполнить и для проверки объекта на принадлежность к классу директорий, вызвав для его адреса метод `isdir`"
      ]
    },
    {
      "cell_type": "code",
      "metadata": {
        "colab": {
          "base_uri": "https://localhost:8080/"
        },
        "id": "91WBahmmgsej",
        "outputId": "a1e4e23a-12f2-4934-d704-95e4e43aeb86"
      },
      "source": [
        "import os\n",
        "\n",
        "print(os.path.isdir(\"test/isr/one\"))"
      ],
      "execution_count": null,
      "outputs": [
        {
          "output_type": "stream",
          "name": "stdout",
          "text": [
            "True\n"
          ]
        }
      ]
    },
    {
      "cell_type": "markdown",
      "metadata": {
        "id": "lolL-9okmdvg"
      },
      "source": [
        "\n",
        "\n",
        "---\n",
        "\n",
        "## Обработка путей\n",
        "Функция `split` позволяет легко разъединить путь к файлу и имя файла на различные строки в кортеже. "
      ]
    },
    {
      "cell_type": "code",
      "metadata": {
        "colab": {
          "base_uri": "https://localhost:8080/"
        },
        "id": "pKHa4nK3m3F2",
        "outputId": "064bc8ca-180b-4594-eac8-c990f5dcf72b"
      },
      "source": [
        "import os\n",
        "\n",
        "print(os.path.split(\"test/isr/one\"))"
      ],
      "execution_count": null,
      "outputs": [
        {
          "output_type": "stream",
          "name": "stdout",
          "text": [
            "('test/isr', 'one')\n"
          ]
        }
      ]
    },
    {
      "cell_type": "markdown",
      "metadata": {
        "id": "r6I8j718nG9j"
      },
      "source": [
        "Обратное действие выполняет функция `join`, позволяя легко соединить путь к документу с его названием. "
      ]
    },
    {
      "cell_type": "code",
      "metadata": {
        "colab": {
          "base_uri": "https://localhost:8080/"
        },
        "id": "zOFi6ubInMmR",
        "outputId": "c961cef2-867f-48fa-e039-fa578bde8c47"
      },
      "source": [
        "import os\n",
        "\n",
        "print(os.path.join('test/isr', 'one'))"
      ],
      "execution_count": null,
      "outputs": [
        {
          "output_type": "stream",
          "name": "stdout",
          "text": [
            "test/isr/one\n"
          ]
        }
      ]
    }
  ]
}