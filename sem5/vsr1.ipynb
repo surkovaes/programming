{
  "nbformat": 4,
  "nbformat_minor": 0,
  "metadata": {
    "colab": {
      "name": "vsr_1.ipynb",
      "provenance": [],
      "collapsed_sections": []
    },
    "kernelspec": {
      "name": "python3",
      "display_name": "Python 3"
    },
    "language_info": {
      "name": "python"
    }
  },
  "cells": [
    {
      "cell_type": "markdown",
      "metadata": {
        "id": "NihdsNg4pzAu"
      },
      "source": [
        "# Вариантивная самостоятельная работа 1\n",
        "# **Модуль requests**\n",
        "Суркова Елизавета, 3ИВТ(2)/19\n",
        "\n",
        "\n",
        "---\n",
        "\n"
      ]
    },
    {
      "cell_type": "markdown",
      "metadata": {
        "id": "0QaRBl9VqCQM"
      },
      "source": [
        "**`Requests`** — это HTTP-библиотека, написанная на Python. Это простая в использовании библиотека с множеством функций, начиная от передачи параметров в URL-адресах до отправки пользовательских заголовков и проверки SSL. Код, написанный с применением **`Requests`**, не является громоздким, легко читается, а функции и методы наглядно настраиваются.\n",
        " "
      ]
    },
    {
      "cell_type": "markdown",
      "metadata": {
        "id": "hE4YP4-yqjR5"
      },
      "source": [
        "**`Requests`** является внешним модулем, поэтому сначала его необходимо установить. Сделать это можно, выполнив следующую команду в терминале/консоли:"
      ]
    },
    {
      "cell_type": "markdown",
      "metadata": {
        "id": "sTngX6hTsEla"
      },
      "source": [
        "`pip install requests # Для Windows`\n",
        "\n",
        "`pip3 install requests # Для Linux, MacOS`\n",
        "\n",
        "\n"
      ]
    },
    {
      "cell_type": "markdown",
      "metadata": {
        "id": "GHYGa08erwJs"
      },
      "source": [
        "Для работы с библиотекой **`Requests`** в Python необходимо импортировать соответствующий модуль. Сделать это можно, поместив следующий код в начало программы:"
      ]
    },
    {
      "cell_type": "code",
      "metadata": {
        "id": "5c0S6Nqxr-C2"
      },
      "source": [
        "import requests "
      ],
      "execution_count": null,
      "outputs": []
    },
    {
      "cell_type": "markdown",
      "metadata": {
        "id": "-Jn87mtfsrRX"
      },
      "source": [
        "\n",
        "\n",
        "---\n",
        "\n",
        "\n",
        "## Создание запроса GET\n",
        "С помощью **`Requests`** очень просто отправить HTTP-запрос:"
      ]
    },
    {
      "cell_type": "code",
      "metadata": {
        "id": "oJdjsGbNt2v1"
      },
      "source": [
        "import requests\n",
        "\n",
        "req = requests.get('https://api.github.com/')"
      ],
      "execution_count": null,
      "outputs": []
    },
    {
      "cell_type": "markdown",
      "metadata": {
        "id": "2Ca4VTuGuHnj"
      },
      "source": [
        "Вся информация о запросе теперь хранится в объекте Response, называемом `req`."
      ]
    },
    {
      "cell_type": "markdown",
      "metadata": {
        "id": "7XHLJu76uZw6"
      },
      "source": [
        "### Проверка статуса ответа\n",
        "\n",
        "Получить код состояния запроса можно, используя свойство `req.status_code`."
      ]
    },
    {
      "cell_type": "code",
      "metadata": {
        "colab": {
          "base_uri": "https://localhost:8080/"
        },
        "id": "Bgbnh_hyuoAz",
        "outputId": "c24d72ef-d291-40ff-a0dd-360a7b454801"
      },
      "source": [
        "req.status_code  "
      ],
      "execution_count": 11,
      "outputs": [
        {
          "output_type": "execute_result",
          "data": {
            "text/plain": [
              "200"
            ]
          },
          "metadata": {},
          "execution_count": 11
        }
      ]
    },
    {
      "cell_type": "markdown",
      "metadata": {
        "id": "gga_ce_ju4j4"
      },
      "source": [
        "Код статуса `200` говорит о том, что запрашиваемый сайт обнаружен, и был получен успешный ответ."
      ]
    },
    {
      "cell_type": "markdown",
      "metadata": {
        "id": "qss5Q0XD9jg0"
      },
      "source": [
        "### Получение содержимого страницы\n",
        "\n",
        "После того как сервер ответил, можно получить нужный контент. Это также делается при помощи функции `get` библиотеки **`Requests`**."
      ]
    },
    {
      "cell_type": "markdown",
      "metadata": {
        "id": "KuylJwzz-rCB"
      },
      "source": [
        "Свойство `text` показывает тело ответа сервера в текстовом формате (актуально для html-страниц), `content` – результат в виде байтов (удобно при скачивании графической, аудио- или видеоинформации), метод `json` приводит содержимое ответа к обычному словарю (если данные к нему приводимы, в противном случае будет ошибка; актуально для API-запросов)."
      ]
    },
    {
      "cell_type": "code",
      "metadata": {
        "colab": {
          "base_uri": "https://localhost:8080/"
        },
        "id": "X7FcdcOB-374",
        "outputId": "f29665c7-0977-40d3-ddba-74ae4b5ada0d"
      },
      "source": [
        "import requests\n",
        "\n",
        "r = requests.get('https://api.github.com/')\n",
        "print(r.text)"
      ],
      "execution_count": 12,
      "outputs": [
        {
          "output_type": "stream",
          "name": "stdout",
          "text": [
            "{\"current_user_url\":\"https://api.github.com/user\",\"current_user_authorizations_html_url\":\"https://github.com/settings/connections/applications{/client_id}\",\"authorizations_url\":\"https://api.github.com/authorizations\",\"code_search_url\":\"https://api.github.com/search/code?q={query}{&page,per_page,sort,order}\",\"commit_search_url\":\"https://api.github.com/search/commits?q={query}{&page,per_page,sort,order}\",\"emails_url\":\"https://api.github.com/user/emails\",\"emojis_url\":\"https://api.github.com/emojis\",\"events_url\":\"https://api.github.com/events\",\"feeds_url\":\"https://api.github.com/feeds\",\"followers_url\":\"https://api.github.com/user/followers\",\"following_url\":\"https://api.github.com/user/following{/target}\",\"gists_url\":\"https://api.github.com/gists{/gist_id}\",\"hub_url\":\"https://api.github.com/hub\",\"issue_search_url\":\"https://api.github.com/search/issues?q={query}{&page,per_page,sort,order}\",\"issues_url\":\"https://api.github.com/issues\",\"keys_url\":\"https://api.github.com/user/keys\",\"label_search_url\":\"https://api.github.com/search/labels?q={query}&repository_id={repository_id}{&page,per_page}\",\"notifications_url\":\"https://api.github.com/notifications\",\"organization_url\":\"https://api.github.com/orgs/{org}\",\"organization_repositories_url\":\"https://api.github.com/orgs/{org}/repos{?type,page,per_page,sort}\",\"organization_teams_url\":\"https://api.github.com/orgs/{org}/teams\",\"public_gists_url\":\"https://api.github.com/gists/public\",\"rate_limit_url\":\"https://api.github.com/rate_limit\",\"repository_url\":\"https://api.github.com/repos/{owner}/{repo}\",\"repository_search_url\":\"https://api.github.com/search/repositories?q={query}{&page,per_page,sort,order}\",\"current_user_repositories_url\":\"https://api.github.com/user/repos{?type,page,per_page,sort}\",\"starred_url\":\"https://api.github.com/user/starred{/owner}{/repo}\",\"starred_gists_url\":\"https://api.github.com/gists/starred\",\"user_url\":\"https://api.github.com/users/{user}\",\"user_organizations_url\":\"https://api.github.com/user/orgs\",\"user_repositories_url\":\"https://api.github.com/users/{user}/repos{?type,page,per_page,sort}\",\"user_search_url\":\"https://api.github.com/search/users?q={query}{&page,per_page,sort,order}\"}\n"
          ]
        }
      ]
    },
    {
      "cell_type": "code",
      "metadata": {
        "colab": {
          "base_uri": "https://localhost:8080/"
        },
        "id": "iSVHpV6d_Bdx",
        "outputId": "fa4e5c2f-a7f6-479c-fa25-c04a5c4d3ee4"
      },
      "source": [
        "import requests\n",
        "\n",
        "r = requests.get('https://api.github.com/')\n",
        "print(r.json())"
      ],
      "execution_count": 14,
      "outputs": [
        {
          "output_type": "stream",
          "name": "stdout",
          "text": [
            "{'current_user_url': 'https://api.github.com/user', 'current_user_authorizations_html_url': 'https://github.com/settings/connections/applications{/client_id}', 'authorizations_url': 'https://api.github.com/authorizations', 'code_search_url': 'https://api.github.com/search/code?q={query}{&page,per_page,sort,order}', 'commit_search_url': 'https://api.github.com/search/commits?q={query}{&page,per_page,sort,order}', 'emails_url': 'https://api.github.com/user/emails', 'emojis_url': 'https://api.github.com/emojis', 'events_url': 'https://api.github.com/events', 'feeds_url': 'https://api.github.com/feeds', 'followers_url': 'https://api.github.com/user/followers', 'following_url': 'https://api.github.com/user/following{/target}', 'gists_url': 'https://api.github.com/gists{/gist_id}', 'hub_url': 'https://api.github.com/hub', 'issue_search_url': 'https://api.github.com/search/issues?q={query}{&page,per_page,sort,order}', 'issues_url': 'https://api.github.com/issues', 'keys_url': 'https://api.github.com/user/keys', 'label_search_url': 'https://api.github.com/search/labels?q={query}&repository_id={repository_id}{&page,per_page}', 'notifications_url': 'https://api.github.com/notifications', 'organization_url': 'https://api.github.com/orgs/{org}', 'organization_repositories_url': 'https://api.github.com/orgs/{org}/repos{?type,page,per_page,sort}', 'organization_teams_url': 'https://api.github.com/orgs/{org}/teams', 'public_gists_url': 'https://api.github.com/gists/public', 'rate_limit_url': 'https://api.github.com/rate_limit', 'repository_url': 'https://api.github.com/repos/{owner}/{repo}', 'repository_search_url': 'https://api.github.com/search/repositories?q={query}{&page,per_page,sort,order}', 'current_user_repositories_url': 'https://api.github.com/user/repos{?type,page,per_page,sort}', 'starred_url': 'https://api.github.com/user/starred{/owner}{/repo}', 'starred_gists_url': 'https://api.github.com/gists/starred', 'user_url': 'https://api.github.com/users/{user}', 'user_organizations_url': 'https://api.github.com/user/orgs', 'user_repositories_url': 'https://api.github.com/users/{user}/repos{?type,page,per_page,sort}', 'user_search_url': 'https://api.github.com/search/users?q={query}{&page,per_page,sort,order}'}\n"
          ]
        }
      ]
    },
    {
      "cell_type": "markdown",
      "metadata": {
        "id": "Nu_KdnaB_j8w"
      },
      "source": [
        "### Работа с заголовками\n",
        "\n",
        "Используя `headers`, можно просмотреть заголовки ответа сервера. Для получения доступа к заголовкам можно использовать в ключах словаря как заглавные, так и строчные буквы.\n",
        "\n",
        "Если вызываемого заголовка нет, будет возвращено значение `None`."
      ]
    },
    {
      "cell_type": "code",
      "metadata": {
        "colab": {
          "base_uri": "https://localhost:8080/",
          "height": 72
        },
        "id": "yNfyABSy_7-v",
        "outputId": "7b15466d-21f6-4e0f-f73b-de29bc7c05f5"
      },
      "source": [
        "print(r.headers)\n",
        "\n",
        "r.headers['Content-Type']"
      ],
      "execution_count": 18,
      "outputs": [
        {
          "output_type": "stream",
          "name": "stdout",
          "text": [
            "{'Server': 'GitHub.com', 'Date': 'Tue, 05 Oct 2021 19:45:29 GMT', 'Content-Type': 'application/json; charset=utf-8', 'Cache-Control': 'public, max-age=60, s-maxage=60', 'Vary': 'Accept, Accept-Encoding, Accept, X-Requested-With', 'ETag': 'W/\"27278c3efffccc4a7be1bf315653b901b14f2989b2c2600d7cc2e90a97ffbf60\"', 'X-GitHub-Media-Type': 'github.v3; format=json', 'Access-Control-Expose-Headers': 'ETag, Link, Location, Retry-After, X-GitHub-OTP, X-RateLimit-Limit, X-RateLimit-Remaining, X-RateLimit-Used, X-RateLimit-Resource, X-RateLimit-Reset, X-OAuth-Scopes, X-Accepted-OAuth-Scopes, X-Poll-Interval, X-GitHub-Media-Type, Deprecation, Sunset', 'Access-Control-Allow-Origin': '*', 'Strict-Transport-Security': 'max-age=31536000; includeSubdomains; preload', 'X-Frame-Options': 'deny', 'X-Content-Type-Options': 'nosniff', 'X-XSS-Protection': '0', 'Referrer-Policy': 'origin-when-cross-origin, strict-origin-when-cross-origin', 'Content-Security-Policy': \"default-src 'none'\", 'Content-Encoding': 'gzip', 'X-RateLimit-Limit': '60', 'X-RateLimit-Remaining': '57', 'X-RateLimit-Reset': '1633466634', 'X-RateLimit-Resource': 'core', 'X-RateLimit-Used': '3', 'Accept-Ranges': 'bytes', 'Content-Length': '512', 'X-GitHub-Request-Id': 'B34C:410E:2B66A1:61458D:615CAB63'}\n"
          ]
        },
        {
          "output_type": "execute_result",
          "data": {
            "application/vnd.google.colaboratory.intrinsic+json": {
              "type": "string"
            },
            "text/plain": [
              "'application/json; charset=utf-8'"
            ]
          },
          "metadata": {},
          "execution_count": 18
        }
      ]
    },
    {
      "cell_type": "markdown",
      "metadata": {
        "id": "JY7X7z8bBc18"
      },
      "source": [
        "### Кодирование\n",
        "\n",
        "Библиотека **`Requests`** автоматически декодирует любой контент, извлеченный из сервера. Когда создается запрос к серверу, библиотека **`Requests`** делает предположение о кодировке ответа на основании заголовков HTTP. Предполагаемая кодировка будет использоваться при доступе к файлу с помощью `r.text`."
      ]
    },
    {
      "cell_type": "markdown",
      "metadata": {
        "id": "wL8kvHT3CISE"
      },
      "source": [
        "Определить и изменить кодировку можно благодаря атрибуту `r.encoding`."
      ]
    },
    {
      "cell_type": "code",
      "metadata": {
        "colab": {
          "base_uri": "https://localhost:8080/"
        },
        "id": "ZK_f0bevCWpe",
        "outputId": "78ce4df2-688f-4eda-c7aa-e2e2150737c2"
      },
      "source": [
        "print(r.encoding)\n",
        "\n",
        "r.encoding = 'ASCII'\n",
        "print(r.encoding)"
      ],
      "execution_count": 19,
      "outputs": [
        {
          "output_type": "stream",
          "name": "stdout",
          "text": [
            "utf-8\n",
            "ASCII\n"
          ]
        }
      ]
    },
    {
      "cell_type": "markdown",
      "metadata": {
        "id": "MN6xg2T1Erlc"
      },
      "source": [
        "\n",
        "\n",
        "---\n",
        "\n",
        "\n",
        "## Выполнение запроса POST\n",
        "\n",
        "Для отправки данных (например, форм) применяют метод `POST` библиотеки **`Requests`**. \n",
        "\n",
        "В аргументе `data` указываются все требуемые поля."
      ]
    },
    {
      "cell_type": "code",
      "metadata": {
        "colab": {
          "base_uri": "https://localhost:8080/"
        },
        "id": "yj0bvV3LFpiD",
        "outputId": "9b1ebfa6-7f32-46fb-8122-a3d1a356fac4"
      },
      "source": [
        "params = {'user': 'admin', 'password': 'adminPass'}\n",
        "r = requests.post('http://httpbin.org/post', data=params)\n",
        "r.json()"
      ],
      "execution_count": 24,
      "outputs": [
        {
          "output_type": "execute_result",
          "data": {
            "text/plain": [
              "{'args': {},\n",
              " 'data': '',\n",
              " 'files': {},\n",
              " 'form': {'password': 'adminPass', 'user': 'admin'},\n",
              " 'headers': {'Accept': '*/*',\n",
              "  'Accept-Encoding': 'gzip, deflate',\n",
              "  'Content-Length': '29',\n",
              "  'Content-Type': 'application/x-www-form-urlencoded',\n",
              "  'Host': 'httpbin.org',\n",
              "  'User-Agent': 'python-requests/2.23.0',\n",
              "  'X-Amzn-Trace-Id': 'Root=1-615cb2a2-62a7e42447d1d5fc27b30cd7'},\n",
              " 'json': None,\n",
              " 'origin': '34.125.84.34',\n",
              " 'url': 'http://httpbin.org/post'}"
            ]
          },
          "metadata": {},
          "execution_count": 24
        }
      ]
    },
    {
      "cell_type": "code",
      "metadata": {
        "colab": {
          "base_uri": "https://localhost:8080/"
        },
        "id": "-jZHxWqWGho0",
        "outputId": "47960f2c-c2f2-4855-d869-f9f776f1e686"
      },
      "source": [
        "r.json()['form']"
      ],
      "execution_count": 25,
      "outputs": [
        {
          "output_type": "execute_result",
          "data": {
            "text/plain": [
              "{'password': 'adminPass', 'user': 'admin'}"
            ]
          },
          "metadata": {},
          "execution_count": 25
        }
      ]
    },
    {
      "cell_type": "markdown",
      "metadata": {
        "id": "GTFi0SQ_G4eg"
      },
      "source": [
        "Также можно выполнять и другие HTTP-запросы, такие как `PUT`, `DELETE`, `HEAD`, и `OPTIONS`"
      ]
    },
    {
      "cell_type": "code",
      "metadata": {
        "id": "uabOiIcwG_pm"
      },
      "source": [
        "r = requests.put(\"http://httpbin.org/put\")\n",
        "r = requests.delete(\"http://httpbin.org/delete\")\n",
        "r = requests.head(\"http://httpbin.org/get\")\n",
        "r = requests.options(\"http://httpbin.org/get\")"
      ],
      "execution_count": null,
      "outputs": []
    },
    {
      "cell_type": "markdown",
      "metadata": {
        "id": "iHqyL7LuHIs7"
      },
      "source": [
        "### Отправка файлов cookie и заголовков\n",
        "\n",
        "Получить доступ к файлам cookie и заголовкам, которые сервер отправляет обратно, можно с помощью `cookies` и `headers`.\n",
        "\n",
        "Запросы также позволяют отправлять свои собственные cookie-файлы и заголовки с запросом.\n",
        "\n",
        "Чтобы добавить HTTP-заголовки в запрос, нужно передать их в dict (словарь) для параметра `headers`. Аналогично, можно отправлять свои собственные файлы cookie на сервер, используя dict, переданный в параметр `cookie`."
      ]
    },
    {
      "cell_type": "code",
      "metadata": {
        "id": "eFJGp47aI2un"
      },
      "source": [
        "import requests\n",
        " \n",
        "url = 'http://some-domain.com/set/cookies/headers'\n",
        " \n",
        "headers = {'user-agent': 'your-own-user-agent/0.0.1'}\n",
        "cookies = {'month': 'October'}\n",
        " \n",
        "req = requests.post(url, headers=headers, cookies=cookies)"
      ],
      "execution_count": 27,
      "outputs": []
    }
  ]
}